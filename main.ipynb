{
 "cells": [
  {
   "cell_type": "code",
   "execution_count": 3,
   "id": "mysterious-chase",
   "metadata": {},
   "outputs": [
    {
     "name": "stdin",
     "output_type": "stream",
     "text": [
      "Name? Max\n",
      "Age? 23\n"
     ]
    }
   ],
   "source": [
    "name = input(\"Name?\")\n",
    "age = int(input(\"Age?\"))"
   ]
  },
  {
   "cell_type": "code",
   "execution_count": null,
   "id": "junior-trade",
   "metadata": {},
   "outputs": [],
   "source": []
  }
 ],
 "metadata": {
  "kernelspec": {
   "display_name": "Python 3",
   "language": "python",
   "name": "python3"
  },
  "language_info": {
   "codemirror_mode": {
    "name": "ipython",
    "version": 3
   },
   "file_extension": ".py",
   "mimetype": "text/x-python",
   "name": "python",
   "nbconvert_exporter": "python",
   "pygments_lexer": "ipython3",
   "version": "3.8.5"
  }
 },
 "nbformat": 4,
 "nbformat_minor": 5
}
